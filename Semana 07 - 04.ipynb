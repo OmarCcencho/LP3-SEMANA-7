{
 "cells": [
  {
   "cell_type": "markdown",
   "id": "0668db5c",
   "metadata": {},
   "source": [
    "# Semana 07 - 04\n",
    "Ccencho Barazorda Omar Antonio\n",
    "\n",
    "Temas:\n",
    "  1.Numeros\n",
    "  2.Variables\n",
    "  3.Manejo de cadenas\n",
    "  4.Ingreso de Datos por el Teclado\n",
    "  5.Operadores"
   ]
  },
  {
   "cell_type": "code",
   "execution_count": 1,
   "id": "a59a7788",
   "metadata": {},
   "outputs": [
    {
     "name": "stdout",
     "output_type": "stream",
     "text": [
      "¿Cual es tu nombre?\n",
      "Omar\n",
      "hola Omar\n"
     ]
    }
   ],
   "source": [
    "print(\"¿Cual es tu nombre?\")\n",
    "nombre = input()\n",
    "print(\"hola \" + nombre)"
   ]
  },
  {
   "cell_type": "code",
   "execution_count": 1,
   "id": "e4429e8a",
   "metadata": {},
   "outputs": [
    {
     "name": "stdout",
     "output_type": "stream",
     "text": [
      "número 1: \n",
      "15\n",
      "número 2: \n",
      "12\n",
      "El resultado es 27\n"
     ]
    }
   ],
   "source": [
    "print(\"número 1: \")\n",
    "numero1 = input()\n",
    "print(\"número 2: \")\n",
    "numero2 = input()\n",
    "numero3 = int(numero1) + int(numero2)\n",
    "print(f\"El resultado es {numero3}\")"
   ]
  },
  {
   "cell_type": "code",
   "execution_count": null,
   "id": "9e1a0f41",
   "metadata": {},
   "outputs": [],
   "source": []
  }
 ],
 "metadata": {
  "kernelspec": {
   "display_name": "Python 3 (ipykernel)",
   "language": "python",
   "name": "python3"
  },
  "language_info": {
   "codemirror_mode": {
    "name": "ipython",
    "version": 3
   },
   "file_extension": ".py",
   "mimetype": "text/x-python",
   "name": "python",
   "nbconvert_exporter": "python",
   "pygments_lexer": "ipython3",
   "version": "3.9.12"
  }
 },
 "nbformat": 4,
 "nbformat_minor": 5
}
